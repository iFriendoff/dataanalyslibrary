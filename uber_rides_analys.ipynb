{
 "cells": [
  {
   "cell_type": "code",
   "execution_count": 72,
   "id": "c9912225",
   "metadata": {},
   "outputs": [
    {
     "data": {
      "text/html": [
       "<div>\n",
       "<style scoped>\n",
       "    .dataframe tbody tr th:only-of-type {\n",
       "        vertical-align: middle;\n",
       "    }\n",
       "\n",
       "    .dataframe tbody tr th {\n",
       "        vertical-align: top;\n",
       "    }\n",
       "\n",
       "    .dataframe thead th {\n",
       "        text-align: right;\n",
       "    }\n",
       "</style>\n",
       "<table border=\"1\" class=\"dataframe\">\n",
       "  <thead>\n",
       "    <tr style=\"text-align: right;\">\n",
       "      <th></th>\n",
       "      <th>Date</th>\n",
       "      <th>Time</th>\n",
       "      <th>Booking ID</th>\n",
       "      <th>Booking Status</th>\n",
       "      <th>Customer ID</th>\n",
       "      <th>Vehicle Type</th>\n",
       "      <th>Pickup Location</th>\n",
       "      <th>Drop Location</th>\n",
       "      <th>Avg VTAT</th>\n",
       "      <th>Avg CTAT</th>\n",
       "      <th>...</th>\n",
       "      <th>Reason for cancelling by Customer</th>\n",
       "      <th>Cancelled Rides by Driver</th>\n",
       "      <th>Driver Cancellation Reason</th>\n",
       "      <th>Incomplete Rides</th>\n",
       "      <th>Incomplete Rides Reason</th>\n",
       "      <th>Booking Value</th>\n",
       "      <th>Ride Distance</th>\n",
       "      <th>Driver Ratings</th>\n",
       "      <th>Customer Rating</th>\n",
       "      <th>Payment Method</th>\n",
       "    </tr>\n",
       "  </thead>\n",
       "  <tbody>\n",
       "    <tr>\n",
       "      <th>0</th>\n",
       "      <td>2024-03-23</td>\n",
       "      <td>12:29:38</td>\n",
       "      <td>\"CNR5884300\"</td>\n",
       "      <td>No Driver Found</td>\n",
       "      <td>\"CID1982111\"</td>\n",
       "      <td>eBike</td>\n",
       "      <td>Palam Vihar</td>\n",
       "      <td>Jhilmil</td>\n",
       "      <td>NaN</td>\n",
       "      <td>NaN</td>\n",
       "      <td>...</td>\n",
       "      <td>NaN</td>\n",
       "      <td>NaN</td>\n",
       "      <td>NaN</td>\n",
       "      <td>NaN</td>\n",
       "      <td>NaN</td>\n",
       "      <td>NaN</td>\n",
       "      <td>NaN</td>\n",
       "      <td>NaN</td>\n",
       "      <td>NaN</td>\n",
       "      <td>NaN</td>\n",
       "    </tr>\n",
       "    <tr>\n",
       "      <th>1</th>\n",
       "      <td>2024-11-29</td>\n",
       "      <td>18:01:39</td>\n",
       "      <td>\"CNR1326809\"</td>\n",
       "      <td>Incomplete</td>\n",
       "      <td>\"CID4604802\"</td>\n",
       "      <td>Go Sedan</td>\n",
       "      <td>Shastri Nagar</td>\n",
       "      <td>Gurgaon Sector 56</td>\n",
       "      <td>4.9</td>\n",
       "      <td>14.0</td>\n",
       "      <td>...</td>\n",
       "      <td>NaN</td>\n",
       "      <td>NaN</td>\n",
       "      <td>NaN</td>\n",
       "      <td>1.0</td>\n",
       "      <td>Vehicle Breakdown</td>\n",
       "      <td>237.0</td>\n",
       "      <td>5.73</td>\n",
       "      <td>NaN</td>\n",
       "      <td>NaN</td>\n",
       "      <td>UPI</td>\n",
       "    </tr>\n",
       "    <tr>\n",
       "      <th>2</th>\n",
       "      <td>2024-08-23</td>\n",
       "      <td>08:56:10</td>\n",
       "      <td>\"CNR8494506\"</td>\n",
       "      <td>Completed</td>\n",
       "      <td>\"CID9202816\"</td>\n",
       "      <td>Auto</td>\n",
       "      <td>Khandsa</td>\n",
       "      <td>Malviya Nagar</td>\n",
       "      <td>13.4</td>\n",
       "      <td>25.8</td>\n",
       "      <td>...</td>\n",
       "      <td>NaN</td>\n",
       "      <td>NaN</td>\n",
       "      <td>NaN</td>\n",
       "      <td>NaN</td>\n",
       "      <td>NaN</td>\n",
       "      <td>627.0</td>\n",
       "      <td>13.58</td>\n",
       "      <td>4.9</td>\n",
       "      <td>4.9</td>\n",
       "      <td>Debit Card</td>\n",
       "    </tr>\n",
       "    <tr>\n",
       "      <th>3</th>\n",
       "      <td>2024-10-21</td>\n",
       "      <td>17:17:25</td>\n",
       "      <td>\"CNR8906825\"</td>\n",
       "      <td>Completed</td>\n",
       "      <td>\"CID2610914\"</td>\n",
       "      <td>Premier Sedan</td>\n",
       "      <td>Central Secretariat</td>\n",
       "      <td>Inderlok</td>\n",
       "      <td>13.1</td>\n",
       "      <td>28.5</td>\n",
       "      <td>...</td>\n",
       "      <td>NaN</td>\n",
       "      <td>NaN</td>\n",
       "      <td>NaN</td>\n",
       "      <td>NaN</td>\n",
       "      <td>NaN</td>\n",
       "      <td>416.0</td>\n",
       "      <td>34.02</td>\n",
       "      <td>4.6</td>\n",
       "      <td>5.0</td>\n",
       "      <td>UPI</td>\n",
       "    </tr>\n",
       "    <tr>\n",
       "      <th>4</th>\n",
       "      <td>2024-09-16</td>\n",
       "      <td>22:08:00</td>\n",
       "      <td>\"CNR1950162\"</td>\n",
       "      <td>Completed</td>\n",
       "      <td>\"CID9933542\"</td>\n",
       "      <td>Bike</td>\n",
       "      <td>Ghitorni Village</td>\n",
       "      <td>Khan Market</td>\n",
       "      <td>5.3</td>\n",
       "      <td>19.6</td>\n",
       "      <td>...</td>\n",
       "      <td>NaN</td>\n",
       "      <td>NaN</td>\n",
       "      <td>NaN</td>\n",
       "      <td>NaN</td>\n",
       "      <td>NaN</td>\n",
       "      <td>737.0</td>\n",
       "      <td>48.21</td>\n",
       "      <td>4.1</td>\n",
       "      <td>4.3</td>\n",
       "      <td>UPI</td>\n",
       "    </tr>\n",
       "    <tr>\n",
       "      <th>...</th>\n",
       "      <td>...</td>\n",
       "      <td>...</td>\n",
       "      <td>...</td>\n",
       "      <td>...</td>\n",
       "      <td>...</td>\n",
       "      <td>...</td>\n",
       "      <td>...</td>\n",
       "      <td>...</td>\n",
       "      <td>...</td>\n",
       "      <td>...</td>\n",
       "      <td>...</td>\n",
       "      <td>...</td>\n",
       "      <td>...</td>\n",
       "      <td>...</td>\n",
       "      <td>...</td>\n",
       "      <td>...</td>\n",
       "      <td>...</td>\n",
       "      <td>...</td>\n",
       "      <td>...</td>\n",
       "      <td>...</td>\n",
       "      <td>...</td>\n",
       "    </tr>\n",
       "    <tr>\n",
       "      <th>149995</th>\n",
       "      <td>2024-11-11</td>\n",
       "      <td>19:34:01</td>\n",
       "      <td>\"CNR6500631\"</td>\n",
       "      <td>Completed</td>\n",
       "      <td>\"CID4337371\"</td>\n",
       "      <td>Go Mini</td>\n",
       "      <td>MG Road</td>\n",
       "      <td>Ghitorni</td>\n",
       "      <td>10.2</td>\n",
       "      <td>44.4</td>\n",
       "      <td>...</td>\n",
       "      <td>NaN</td>\n",
       "      <td>NaN</td>\n",
       "      <td>NaN</td>\n",
       "      <td>NaN</td>\n",
       "      <td>NaN</td>\n",
       "      <td>475.0</td>\n",
       "      <td>40.08</td>\n",
       "      <td>3.7</td>\n",
       "      <td>4.1</td>\n",
       "      <td>Uber Wallet</td>\n",
       "    </tr>\n",
       "    <tr>\n",
       "      <th>149996</th>\n",
       "      <td>2024-11-24</td>\n",
       "      <td>15:55:09</td>\n",
       "      <td>\"CNR2468611\"</td>\n",
       "      <td>Completed</td>\n",
       "      <td>\"CID2325623\"</td>\n",
       "      <td>Go Mini</td>\n",
       "      <td>Golf Course Road</td>\n",
       "      <td>Akshardham</td>\n",
       "      <td>5.1</td>\n",
       "      <td>30.8</td>\n",
       "      <td>...</td>\n",
       "      <td>NaN</td>\n",
       "      <td>NaN</td>\n",
       "      <td>NaN</td>\n",
       "      <td>NaN</td>\n",
       "      <td>NaN</td>\n",
       "      <td>1093.0</td>\n",
       "      <td>21.31</td>\n",
       "      <td>4.8</td>\n",
       "      <td>5.0</td>\n",
       "      <td>UPI</td>\n",
       "    </tr>\n",
       "    <tr>\n",
       "      <th>149997</th>\n",
       "      <td>2024-09-18</td>\n",
       "      <td>10:55:15</td>\n",
       "      <td>\"CNR6358306\"</td>\n",
       "      <td>Completed</td>\n",
       "      <td>\"CID9925486\"</td>\n",
       "      <td>Go Sedan</td>\n",
       "      <td>Satguru Ram Singh Marg</td>\n",
       "      <td>Jor Bagh</td>\n",
       "      <td>2.7</td>\n",
       "      <td>23.4</td>\n",
       "      <td>...</td>\n",
       "      <td>NaN</td>\n",
       "      <td>NaN</td>\n",
       "      <td>NaN</td>\n",
       "      <td>NaN</td>\n",
       "      <td>NaN</td>\n",
       "      <td>852.0</td>\n",
       "      <td>15.93</td>\n",
       "      <td>3.9</td>\n",
       "      <td>4.4</td>\n",
       "      <td>Cash</td>\n",
       "    </tr>\n",
       "    <tr>\n",
       "      <th>149998</th>\n",
       "      <td>2024-10-05</td>\n",
       "      <td>07:53:34</td>\n",
       "      <td>\"CNR3030099\"</td>\n",
       "      <td>Completed</td>\n",
       "      <td>\"CID9415487\"</td>\n",
       "      <td>Auto</td>\n",
       "      <td>Ghaziabad</td>\n",
       "      <td>Saidulajab</td>\n",
       "      <td>6.9</td>\n",
       "      <td>39.6</td>\n",
       "      <td>...</td>\n",
       "      <td>NaN</td>\n",
       "      <td>NaN</td>\n",
       "      <td>NaN</td>\n",
       "      <td>NaN</td>\n",
       "      <td>NaN</td>\n",
       "      <td>333.0</td>\n",
       "      <td>45.54</td>\n",
       "      <td>4.1</td>\n",
       "      <td>3.7</td>\n",
       "      <td>UPI</td>\n",
       "    </tr>\n",
       "    <tr>\n",
       "      <th>149999</th>\n",
       "      <td>2024-03-10</td>\n",
       "      <td>15:38:03</td>\n",
       "      <td>\"CNR3447390\"</td>\n",
       "      <td>Completed</td>\n",
       "      <td>\"CID4108667\"</td>\n",
       "      <td>Premier Sedan</td>\n",
       "      <td>Ashok Park Main</td>\n",
       "      <td>Gurgaon Sector 29</td>\n",
       "      <td>3.5</td>\n",
       "      <td>33.7</td>\n",
       "      <td>...</td>\n",
       "      <td>NaN</td>\n",
       "      <td>NaN</td>\n",
       "      <td>NaN</td>\n",
       "      <td>NaN</td>\n",
       "      <td>NaN</td>\n",
       "      <td>806.0</td>\n",
       "      <td>21.19</td>\n",
       "      <td>4.6</td>\n",
       "      <td>4.9</td>\n",
       "      <td>Credit Card</td>\n",
       "    </tr>\n",
       "  </tbody>\n",
       "</table>\n",
       "<p>150000 rows × 21 columns</p>\n",
       "</div>"
      ],
      "text/plain": [
       "              Date      Time    Booking ID   Booking Status   Customer ID  \\\n",
       "0       2024-03-23  12:29:38  \"CNR5884300\"  No Driver Found  \"CID1982111\"   \n",
       "1       2024-11-29  18:01:39  \"CNR1326809\"       Incomplete  \"CID4604802\"   \n",
       "2       2024-08-23  08:56:10  \"CNR8494506\"        Completed  \"CID9202816\"   \n",
       "3       2024-10-21  17:17:25  \"CNR8906825\"        Completed  \"CID2610914\"   \n",
       "4       2024-09-16  22:08:00  \"CNR1950162\"        Completed  \"CID9933542\"   \n",
       "...            ...       ...           ...              ...           ...   \n",
       "149995  2024-11-11  19:34:01  \"CNR6500631\"        Completed  \"CID4337371\"   \n",
       "149996  2024-11-24  15:55:09  \"CNR2468611\"        Completed  \"CID2325623\"   \n",
       "149997  2024-09-18  10:55:15  \"CNR6358306\"        Completed  \"CID9925486\"   \n",
       "149998  2024-10-05  07:53:34  \"CNR3030099\"        Completed  \"CID9415487\"   \n",
       "149999  2024-03-10  15:38:03  \"CNR3447390\"        Completed  \"CID4108667\"   \n",
       "\n",
       "         Vehicle Type         Pickup Location      Drop Location  Avg VTAT  \\\n",
       "0               eBike             Palam Vihar            Jhilmil       NaN   \n",
       "1            Go Sedan           Shastri Nagar  Gurgaon Sector 56       4.9   \n",
       "2                Auto                 Khandsa      Malviya Nagar      13.4   \n",
       "3       Premier Sedan     Central Secretariat           Inderlok      13.1   \n",
       "4                Bike        Ghitorni Village        Khan Market       5.3   \n",
       "...               ...                     ...                ...       ...   \n",
       "149995        Go Mini                 MG Road           Ghitorni      10.2   \n",
       "149996        Go Mini        Golf Course Road         Akshardham       5.1   \n",
       "149997       Go Sedan  Satguru Ram Singh Marg           Jor Bagh       2.7   \n",
       "149998           Auto               Ghaziabad         Saidulajab       6.9   \n",
       "149999  Premier Sedan         Ashok Park Main  Gurgaon Sector 29       3.5   \n",
       "\n",
       "        Avg CTAT  ...  Reason for cancelling by Customer  \\\n",
       "0            NaN  ...                                NaN   \n",
       "1           14.0  ...                                NaN   \n",
       "2           25.8  ...                                NaN   \n",
       "3           28.5  ...                                NaN   \n",
       "4           19.6  ...                                NaN   \n",
       "...          ...  ...                                ...   \n",
       "149995      44.4  ...                                NaN   \n",
       "149996      30.8  ...                                NaN   \n",
       "149997      23.4  ...                                NaN   \n",
       "149998      39.6  ...                                NaN   \n",
       "149999      33.7  ...                                NaN   \n",
       "\n",
       "       Cancelled Rides by Driver  Driver Cancellation Reason Incomplete Rides  \\\n",
       "0                            NaN                         NaN              NaN   \n",
       "1                            NaN                         NaN              1.0   \n",
       "2                            NaN                         NaN              NaN   \n",
       "3                            NaN                         NaN              NaN   \n",
       "4                            NaN                         NaN              NaN   \n",
       "...                          ...                         ...              ...   \n",
       "149995                       NaN                         NaN              NaN   \n",
       "149996                       NaN                         NaN              NaN   \n",
       "149997                       NaN                         NaN              NaN   \n",
       "149998                       NaN                         NaN              NaN   \n",
       "149999                       NaN                         NaN              NaN   \n",
       "\n",
       "        Incomplete Rides Reason Booking Value  Ride Distance  Driver Ratings  \\\n",
       "0                           NaN           NaN            NaN             NaN   \n",
       "1             Vehicle Breakdown         237.0           5.73             NaN   \n",
       "2                           NaN         627.0          13.58             4.9   \n",
       "3                           NaN         416.0          34.02             4.6   \n",
       "4                           NaN         737.0          48.21             4.1   \n",
       "...                         ...           ...            ...             ...   \n",
       "149995                      NaN         475.0          40.08             3.7   \n",
       "149996                      NaN        1093.0          21.31             4.8   \n",
       "149997                      NaN         852.0          15.93             3.9   \n",
       "149998                      NaN         333.0          45.54             4.1   \n",
       "149999                      NaN         806.0          21.19             4.6   \n",
       "\n",
       "        Customer Rating  Payment Method  \n",
       "0                   NaN             NaN  \n",
       "1                   NaN             UPI  \n",
       "2                   4.9      Debit Card  \n",
       "3                   5.0             UPI  \n",
       "4                   4.3             UPI  \n",
       "...                 ...             ...  \n",
       "149995              4.1     Uber Wallet  \n",
       "149996              5.0             UPI  \n",
       "149997              4.4            Cash  \n",
       "149998              3.7             UPI  \n",
       "149999              4.9     Credit Card  \n",
       "\n",
       "[150000 rows x 21 columns]"
      ]
     },
     "execution_count": 72,
     "metadata": {},
     "output_type": "execute_result"
    }
   ],
   "source": [
    "import pandas as pd\n",
    "import numpy as np\n",
    "\n",
    "\n",
    "df = pd.read_csv('ncr_ride_bookings.csv')\n",
    "df"
   ]
  },
  {
   "cell_type": "markdown",
   "id": "d66c6c71",
   "metadata": {},
   "source": [
    "firstly go make little analyse "
   ]
  },
  {
   "cell_type": "code",
   "execution_count": 73,
   "id": "2f3e3d50",
   "metadata": {},
   "outputs": [
    {
     "data": {
      "text/html": [
       "<div>\n",
       "<style scoped>\n",
       "    .dataframe tbody tr th:only-of-type {\n",
       "        vertical-align: middle;\n",
       "    }\n",
       "\n",
       "    .dataframe tbody tr th {\n",
       "        vertical-align: top;\n",
       "    }\n",
       "\n",
       "    .dataframe thead th {\n",
       "        text-align: right;\n",
       "    }\n",
       "</style>\n",
       "<table border=\"1\" class=\"dataframe\">\n",
       "  <thead>\n",
       "    <tr style=\"text-align: right;\">\n",
       "      <th></th>\n",
       "      <th>Payment Method</th>\n",
       "      <th>Booking Value</th>\n",
       "    </tr>\n",
       "  </thead>\n",
       "  <tbody>\n",
       "    <tr>\n",
       "      <th>3</th>\n",
       "      <td>UPI</td>\n",
       "      <td>23345101.0</td>\n",
       "    </tr>\n",
       "    <tr>\n",
       "      <th>0</th>\n",
       "      <td>Cash</td>\n",
       "      <td>12895649.0</td>\n",
       "    </tr>\n",
       "    <tr>\n",
       "      <th>4</th>\n",
       "      <td>Uber Wallet</td>\n",
       "      <td>6200898.0</td>\n",
       "    </tr>\n",
       "    <tr>\n",
       "      <th>1</th>\n",
       "      <td>Credit Card</td>\n",
       "      <td>5224025.0</td>\n",
       "    </tr>\n",
       "    <tr>\n",
       "      <th>2</th>\n",
       "      <td>Debit Card</td>\n",
       "      <td>4180510.0</td>\n",
       "    </tr>\n",
       "  </tbody>\n",
       "</table>\n",
       "</div>"
      ],
      "text/plain": [
       "  Payment Method  Booking Value\n",
       "3            UPI     23345101.0\n",
       "0           Cash     12895649.0\n",
       "4    Uber Wallet      6200898.0\n",
       "1    Credit Card      5224025.0\n",
       "2     Debit Card      4180510.0"
      ]
     },
     "execution_count": 73,
     "metadata": {},
     "output_type": "execute_result"
    }
   ],
   "source": [
    "### payment_type and amount by payment_type\n",
    "payment_type = df.groupby('Payment Method')['Booking Value'].sum().reset_index()\n",
    "payment_type = payment_type.sort_values(by='Booking Value', ascending=False)\n",
    "payment_type"
   ]
  },
  {
   "cell_type": "code",
   "execution_count": 74,
   "id": "656dfc9d",
   "metadata": {},
   "outputs": [
    {
     "data": {
      "text/html": [
       "<div>\n",
       "<style scoped>\n",
       "    .dataframe tbody tr th:only-of-type {\n",
       "        vertical-align: middle;\n",
       "    }\n",
       "\n",
       "    .dataframe tbody tr th {\n",
       "        vertical-align: top;\n",
       "    }\n",
       "\n",
       "    .dataframe thead th {\n",
       "        text-align: right;\n",
       "    }\n",
       "</style>\n",
       "<table border=\"1\" class=\"dataframe\">\n",
       "  <thead>\n",
       "    <tr style=\"text-align: right;\">\n",
       "      <th></th>\n",
       "      <th>Booking Status</th>\n",
       "      <th>count</th>\n",
       "    </tr>\n",
       "  </thead>\n",
       "  <tbody>\n",
       "    <tr>\n",
       "      <th>0</th>\n",
       "      <td>Completed</td>\n",
       "      <td>93000</td>\n",
       "    </tr>\n",
       "    <tr>\n",
       "      <th>1</th>\n",
       "      <td>Cancelled by Driver</td>\n",
       "      <td>27000</td>\n",
       "    </tr>\n",
       "    <tr>\n",
       "      <th>2</th>\n",
       "      <td>No Driver Found</td>\n",
       "      <td>10500</td>\n",
       "    </tr>\n",
       "    <tr>\n",
       "      <th>3</th>\n",
       "      <td>Cancelled by Customer</td>\n",
       "      <td>10500</td>\n",
       "    </tr>\n",
       "    <tr>\n",
       "      <th>4</th>\n",
       "      <td>Incomplete</td>\n",
       "      <td>9000</td>\n",
       "    </tr>\n",
       "  </tbody>\n",
       "</table>\n",
       "</div>"
      ],
      "text/plain": [
       "          Booking Status  count\n",
       "0              Completed  93000\n",
       "1    Cancelled by Driver  27000\n",
       "2        No Driver Found  10500\n",
       "3  Cancelled by Customer  10500\n",
       "4             Incomplete   9000"
      ]
     },
     "execution_count": 74,
     "metadata": {},
     "output_type": "execute_result"
    }
   ],
   "source": [
    "### count of bookings successful and failed\n",
    "typesofbookings = df['Booking Status'].value_counts().reset_index()\n",
    "typesofbookings.columns = ['Booking Status', 'count']\n",
    "typesofbookings"
   ]
  },
  {
   "cell_type": "code",
   "execution_count": 75,
   "id": "58f191e6",
   "metadata": {},
   "outputs": [
    {
     "data": {
      "text/html": [
       "<div>\n",
       "<style scoped>\n",
       "    .dataframe tbody tr th:only-of-type {\n",
       "        vertical-align: middle;\n",
       "    }\n",
       "\n",
       "    .dataframe tbody tr th {\n",
       "        vertical-align: top;\n",
       "    }\n",
       "\n",
       "    .dataframe thead th {\n",
       "        text-align: right;\n",
       "    }\n",
       "</style>\n",
       "<table border=\"1\" class=\"dataframe\">\n",
       "  <thead>\n",
       "    <tr style=\"text-align: right;\">\n",
       "      <th></th>\n",
       "      <th>Vehicle Type</th>\n",
       "      <th>Booking Value</th>\n",
       "    </tr>\n",
       "  </thead>\n",
       "  <tbody>\n",
       "    <tr>\n",
       "      <th>3</th>\n",
       "      <td>Go Sedan</td>\n",
       "      <td>511.503385</td>\n",
       "    </tr>\n",
       "    <tr>\n",
       "      <th>1</th>\n",
       "      <td>Bike</td>\n",
       "      <td>510.200299</td>\n",
       "    </tr>\n",
       "    <tr>\n",
       "      <th>4</th>\n",
       "      <td>Premier Sedan</td>\n",
       "      <td>509.568169</td>\n",
       "    </tr>\n",
       "    <tr>\n",
       "      <th>2</th>\n",
       "      <td>Go Mini</td>\n",
       "      <td>507.684934</td>\n",
       "    </tr>\n",
       "    <tr>\n",
       "      <th>0</th>\n",
       "      <td>Auto</td>\n",
       "      <td>506.725241</td>\n",
       "    </tr>\n",
       "    <tr>\n",
       "      <th>6</th>\n",
       "      <td>eBike</td>\n",
       "      <td>503.897090</td>\n",
       "    </tr>\n",
       "    <tr>\n",
       "      <th>5</th>\n",
       "      <td>Uber XL</td>\n",
       "      <td>501.816749</td>\n",
       "    </tr>\n",
       "  </tbody>\n",
       "</table>\n",
       "</div>"
      ],
      "text/plain": [
       "    Vehicle Type  Booking Value\n",
       "3       Go Sedan     511.503385\n",
       "1           Bike     510.200299\n",
       "4  Premier Sedan     509.568169\n",
       "2        Go Mini     507.684934\n",
       "0           Auto     506.725241\n",
       "6          eBike     503.897090\n",
       "5        Uber XL     501.816749"
      ]
     },
     "execution_count": 75,
     "metadata": {},
     "output_type": "execute_result"
    }
   ],
   "source": [
    "### avg cost for ride by type of car\n",
    "\n",
    "avgcostbycar = df.groupby('Vehicle Type')['Booking Value'].mean().reset_index()\n",
    "avgcostbycar = avgcostbycar.sort_values(by='Booking Value', ascending=False)\n",
    "avgcostbycar"
   ]
  },
  {
   "cell_type": "code",
   "execution_count": 76,
   "id": "988556c1",
   "metadata": {},
   "outputs": [
    {
     "data": {
      "text/html": [
       "<div>\n",
       "<style scoped>\n",
       "    .dataframe tbody tr th:only-of-type {\n",
       "        vertical-align: middle;\n",
       "    }\n",
       "\n",
       "    .dataframe tbody tr th {\n",
       "        vertical-align: top;\n",
       "    }\n",
       "\n",
       "    .dataframe thead th {\n",
       "        text-align: right;\n",
       "    }\n",
       "</style>\n",
       "<table border=\"1\" class=\"dataframe\">\n",
       "  <thead>\n",
       "    <tr style=\"text-align: right;\">\n",
       "      <th></th>\n",
       "      <th>ride_count</th>\n",
       "      <th>count</th>\n",
       "    </tr>\n",
       "  </thead>\n",
       "  <tbody>\n",
       "    <tr>\n",
       "      <th>0</th>\n",
       "      <td>Khandsa</td>\n",
       "      <td>949</td>\n",
       "    </tr>\n",
       "    <tr>\n",
       "      <th>1</th>\n",
       "      <td>Barakhamba Road</td>\n",
       "      <td>946</td>\n",
       "    </tr>\n",
       "    <tr>\n",
       "      <th>2</th>\n",
       "      <td>Saket</td>\n",
       "      <td>931</td>\n",
       "    </tr>\n",
       "    <tr>\n",
       "      <th>3</th>\n",
       "      <td>Badarpur</td>\n",
       "      <td>921</td>\n",
       "    </tr>\n",
       "    <tr>\n",
       "      <th>4</th>\n",
       "      <td>Pragati Maidan</td>\n",
       "      <td>920</td>\n",
       "    </tr>\n",
       "    <tr>\n",
       "      <th>5</th>\n",
       "      <td>Madipur</td>\n",
       "      <td>919</td>\n",
       "    </tr>\n",
       "    <tr>\n",
       "      <th>6</th>\n",
       "      <td>AIIMS</td>\n",
       "      <td>918</td>\n",
       "    </tr>\n",
       "    <tr>\n",
       "      <th>7</th>\n",
       "      <td>Mehrauli</td>\n",
       "      <td>915</td>\n",
       "    </tr>\n",
       "    <tr>\n",
       "      <th>8</th>\n",
       "      <td>Dwarka Sector 21</td>\n",
       "      <td>914</td>\n",
       "    </tr>\n",
       "    <tr>\n",
       "      <th>9</th>\n",
       "      <td>Pataudi Chowk</td>\n",
       "      <td>907</td>\n",
       "    </tr>\n",
       "  </tbody>\n",
       "</table>\n",
       "</div>"
      ],
      "text/plain": [
       "         ride_count  count\n",
       "0           Khandsa    949\n",
       "1   Barakhamba Road    946\n",
       "2             Saket    931\n",
       "3          Badarpur    921\n",
       "4    Pragati Maidan    920\n",
       "5           Madipur    919\n",
       "6             AIIMS    918\n",
       "7          Mehrauli    915\n",
       "8  Dwarka Sector 21    914\n",
       "9     Pataudi Chowk    907"
      ]
     },
     "execution_count": 76,
     "metadata": {},
     "output_type": "execute_result"
    }
   ],
   "source": [
    "### top 10 pickup locations by number of rides\n",
    "top10_pickup = (\n",
    "    df['Pickup Location']\n",
    "      .value_counts()\n",
    "      .head(10)\n",
    "      .reset_index()\n",
    "      .rename(columns={'index': 'Pickup Location', 'Pickup Location': 'ride_count'})\n",
    ")\n",
    "top10_pickup"
   ]
  },
  {
   "cell_type": "code",
   "execution_count": 77,
   "id": "719990f4",
   "metadata": {},
   "outputs": [
    {
     "data": {
      "text/html": [
       "<div>\n",
       "<style scoped>\n",
       "    .dataframe tbody tr th:only-of-type {\n",
       "        vertical-align: middle;\n",
       "    }\n",
       "\n",
       "    .dataframe tbody tr th {\n",
       "        vertical-align: top;\n",
       "    }\n",
       "\n",
       "    .dataframe thead th {\n",
       "        text-align: right;\n",
       "    }\n",
       "</style>\n",
       "<table border=\"1\" class=\"dataframe\">\n",
       "  <thead>\n",
       "    <tr style=\"text-align: right;\">\n",
       "      <th></th>\n",
       "      <th>Vehicle Type</th>\n",
       "      <th>avg_check</th>\n",
       "      <th>avg_vtat</th>\n",
       "      <th>avg_ctat</th>\n",
       "      <th>success_rate</th>\n",
       "      <th>revenue</th>\n",
       "      <th>rides</th>\n",
       "    </tr>\n",
       "  </thead>\n",
       "  <tbody>\n",
       "    <tr>\n",
       "      <th>0</th>\n",
       "      <td>Auto</td>\n",
       "      <td>506.725241</td>\n",
       "      <td>8.448299</td>\n",
       "      <td>29.142302</td>\n",
       "      <td>0.618803</td>\n",
       "      <td>12878422.0</td>\n",
       "      <td>37419</td>\n",
       "    </tr>\n",
       "    <tr>\n",
       "      <th>1</th>\n",
       "      <td>Bike</td>\n",
       "      <td>510.200299</td>\n",
       "      <td>8.500043</td>\n",
       "      <td>29.199297</td>\n",
       "      <td>0.623262</td>\n",
       "      <td>7837697.0</td>\n",
       "      <td>22517</td>\n",
       "    </tr>\n",
       "    <tr>\n",
       "      <th>2</th>\n",
       "      <td>Go Mini</td>\n",
       "      <td>507.684934</td>\n",
       "      <td>8.468101</td>\n",
       "      <td>29.159237</td>\n",
       "      <td>0.622324</td>\n",
       "      <td>10338496.0</td>\n",
       "      <td>29806</td>\n",
       "    </tr>\n",
       "    <tr>\n",
       "      <th>3</th>\n",
       "      <td>Go Sedan</td>\n",
       "      <td>511.503385</td>\n",
       "      <td>8.401596</td>\n",
       "      <td>29.040217</td>\n",
       "      <td>0.614421</td>\n",
       "      <td>9369719.0</td>\n",
       "      <td>27141</td>\n",
       "    </tr>\n",
       "    <tr>\n",
       "      <th>4</th>\n",
       "      <td>Premier Sedan</td>\n",
       "      <td>509.568169</td>\n",
       "      <td>8.438750</td>\n",
       "      <td>29.218741</td>\n",
       "      <td>0.621280</td>\n",
       "      <td>6275332.0</td>\n",
       "      <td>18111</td>\n",
       "    </tr>\n",
       "    <tr>\n",
       "      <th>5</th>\n",
       "      <td>Uber XL</td>\n",
       "      <td>501.816749</td>\n",
       "      <td>8.575762</td>\n",
       "      <td>29.209852</td>\n",
       "      <td>0.625534</td>\n",
       "      <td>1528032.0</td>\n",
       "      <td>4449</td>\n",
       "    </tr>\n",
       "    <tr>\n",
       "      <th>6</th>\n",
       "      <td>eBike</td>\n",
       "      <td>503.897090</td>\n",
       "      <td>8.478422</td>\n",
       "      <td>29.177204</td>\n",
       "      <td>0.620536</td>\n",
       "      <td>3618485.0</td>\n",
       "      <td>10557</td>\n",
       "    </tr>\n",
       "  </tbody>\n",
       "</table>\n",
       "</div>"
      ],
      "text/plain": [
       "    Vehicle Type   avg_check  avg_vtat   avg_ctat  success_rate     revenue  \\\n",
       "0           Auto  506.725241  8.448299  29.142302      0.618803  12878422.0   \n",
       "1           Bike  510.200299  8.500043  29.199297      0.623262   7837697.0   \n",
       "2        Go Mini  507.684934  8.468101  29.159237      0.622324  10338496.0   \n",
       "3       Go Sedan  511.503385  8.401596  29.040217      0.614421   9369719.0   \n",
       "4  Premier Sedan  509.568169  8.438750  29.218741      0.621280   6275332.0   \n",
       "5        Uber XL  501.816749  8.575762  29.209852      0.625534   1528032.0   \n",
       "6          eBike  503.897090  8.478422  29.177204      0.620536   3618485.0   \n",
       "\n",
       "   rides  \n",
       "0  37419  \n",
       "1  22517  \n",
       "2  29806  \n",
       "3  27141  \n",
       "4  18111  \n",
       "5   4449  \n",
       "6  10557  "
      ]
     },
     "execution_count": 77,
     "metadata": {},
     "output_type": "execute_result"
    }
   ],
   "source": [
    "### now we can go litlle harder  \n",
    "transport_stats = (\n",
    "    df.groupby('Vehicle Type', as_index=False)\n",
    "      .agg(\n",
    "          avg_check=('Booking Value', 'mean'),\n",
    "          avg_vtat=('Avg VTAT', 'mean'),\n",
    "          avg_ctat=('Avg CTAT', 'mean'),\n",
    "          success_rate=('Booking Status', lambda x: (x=='Completed').mean()),\n",
    "          revenue=('Booking Value', 'sum'),\n",
    "          rides=('Booking ID', 'count')\n",
    "      )\n",
    ")\n",
    "#transport_stats = transport_stats.sort_values(by='revenue', ascending=False)\n",
    "transport_stats"
   ]
  },
  {
   "cell_type": "code",
   "execution_count": 78,
   "id": "a803fd70",
   "metadata": {},
   "outputs": [
    {
     "data": {
      "application/vnd.plotly.v1+json": {
       "config": {
        "plotlyServerURL": "https://plot.ly"
       },
       "data": [
        {
         "alignmentgroup": "True",
         "hovertemplate": "Vehicle Type=%{x}<br>revenue=%{y}<extra></extra>",
         "legendgroup": "",
         "marker": {
          "color": "#000001",
          "pattern": {
           "shape": ""
          }
         },
         "name": "",
         "offsetgroup": "",
         "orientation": "v",
         "showlegend": false,
         "textposition": "auto",
         "texttemplate": "%{y:.2s}",
         "type": "bar",
         "x": [
          "Auto",
          "Go Mini",
          "Go Sedan",
          "Bike",
          "Premier Sedan",
          "eBike",
          "Uber XL"
         ],
         "xaxis": "x",
         "y": [
          12878422,
          10338496,
          9369719,
          7837697,
          6275332,
          3618485,
          1528032
         ],
         "yaxis": "y"
        }
       ],
       "layout": {
        "barmode": "relative",
        "legend": {
         "tracegroupgap": 0
        },
        "template": {
         "data": {
          "candlestick": [
           {
            "decreasing": {
             "line": {
              "color": "#000033"
             }
            },
            "increasing": {
             "line": {
              "color": "#000032"
             }
            },
            "type": "candlestick"
           }
          ],
          "contour": [
           {
            "colorscale": [
             [
              0,
              "#000011"
             ],
             [
              0.1111111111111111,
              "#000012"
             ],
             [
              0.2222222222222222,
              "#000013"
             ],
             [
              0.3333333333333333,
              "#000014"
             ],
             [
              0.4444444444444444,
              "#000015"
             ],
             [
              0.5555555555555556,
              "#000016"
             ],
             [
              0.6666666666666666,
              "#000017"
             ],
             [
              0.7777777777777778,
              "#000018"
             ],
             [
              0.8888888888888888,
              "#000019"
             ],
             [
              1,
              "#000020"
             ]
            ],
            "type": "contour"
           }
          ],
          "contourcarpet": [
           {
            "colorscale": [
             [
              0,
              "#000011"
             ],
             [
              0.1111111111111111,
              "#000012"
             ],
             [
              0.2222222222222222,
              "#000013"
             ],
             [
              0.3333333333333333,
              "#000014"
             ],
             [
              0.4444444444444444,
              "#000015"
             ],
             [
              0.5555555555555556,
              "#000016"
             ],
             [
              0.6666666666666666,
              "#000017"
             ],
             [
              0.7777777777777778,
              "#000018"
             ],
             [
              0.8888888888888888,
              "#000019"
             ],
             [
              1,
              "#000020"
             ]
            ],
            "type": "contourcarpet"
           }
          ],
          "heatmap": [
           {
            "colorscale": [
             [
              0,
              "#000011"
             ],
             [
              0.1111111111111111,
              "#000012"
             ],
             [
              0.2222222222222222,
              "#000013"
             ],
             [
              0.3333333333333333,
              "#000014"
             ],
             [
              0.4444444444444444,
              "#000015"
             ],
             [
              0.5555555555555556,
              "#000016"
             ],
             [
              0.6666666666666666,
              "#000017"
             ],
             [
              0.7777777777777778,
              "#000018"
             ],
             [
              0.8888888888888888,
              "#000019"
             ],
             [
              1,
              "#000020"
             ]
            ],
            "type": "heatmap"
           }
          ],
          "histogram2d": [
           {
            "colorscale": [
             [
              0,
              "#000011"
             ],
             [
              0.1111111111111111,
              "#000012"
             ],
             [
              0.2222222222222222,
              "#000013"
             ],
             [
              0.3333333333333333,
              "#000014"
             ],
             [
              0.4444444444444444,
              "#000015"
             ],
             [
              0.5555555555555556,
              "#000016"
             ],
             [
              0.6666666666666666,
              "#000017"
             ],
             [
              0.7777777777777778,
              "#000018"
             ],
             [
              0.8888888888888888,
              "#000019"
             ],
             [
              1,
              "#000020"
             ]
            ],
            "type": "histogram2d"
           }
          ],
          "icicle": [
           {
            "textfont": {
             "color": "white"
            },
            "type": "icicle"
           }
          ],
          "sankey": [
           {
            "textfont": {
             "color": "#000036"
            },
            "type": "sankey"
           }
          ],
          "scatter": [
           {
            "marker": {
             "line": {
              "width": 0
             }
            },
            "type": "scatter"
           }
          ],
          "table": [
           {
            "cells": {
             "fill": {
              "color": "#000038"
             },
             "font": {
              "color": "#000037"
             },
             "line": {
              "color": "#000039"
             }
            },
            "header": {
             "fill": {
              "color": "#000040"
             },
             "font": {
              "color": "#000036"
             },
             "line": {
              "color": "#000039"
             }
            },
            "type": "table"
           }
          ],
          "waterfall": [
           {
            "connector": {
             "line": {
              "color": "#000036",
              "width": 2
             }
            },
            "decreasing": {
             "marker": {
              "color": "#000033"
             }
            },
            "increasing": {
             "marker": {
              "color": "#000032"
             }
            },
            "totals": {
             "marker": {
              "color": "#000034"
             }
            },
            "type": "waterfall"
           }
          ]
         },
         "layout": {
          "coloraxis": {
           "colorscale": [
            [
             0,
             "#000011"
            ],
            [
             0.1111111111111111,
             "#000012"
            ],
            [
             0.2222222222222222,
             "#000013"
            ],
            [
             0.3333333333333333,
             "#000014"
            ],
            [
             0.4444444444444444,
             "#000015"
            ],
            [
             0.5555555555555556,
             "#000016"
            ],
            [
             0.6666666666666666,
             "#000017"
            ],
            [
             0.7777777777777778,
             "#000018"
            ],
            [
             0.8888888888888888,
             "#000019"
            ],
            [
             1,
             "#000020"
            ]
           ]
          },
          "colorscale": {
           "diverging": [
            [
             0,
             "#000021"
            ],
            [
             0.1,
             "#000022"
            ],
            [
             0.2,
             "#000023"
            ],
            [
             0.3,
             "#000024"
            ],
            [
             0.4,
             "#000025"
            ],
            [
             0.5,
             "#000026"
            ],
            [
             0.6,
             "#000027"
            ],
            [
             0.7,
             "#000028"
            ],
            [
             0.8,
             "#000029"
            ],
            [
             0.9,
             "#000030"
            ],
            [
             1,
             "#000031"
            ]
           ],
           "sequential": [
            [
             0,
             "#000011"
            ],
            [
             0.1111111111111111,
             "#000012"
            ],
            [
             0.2222222222222222,
             "#000013"
            ],
            [
             0.3333333333333333,
             "#000014"
            ],
            [
             0.4444444444444444,
             "#000015"
            ],
            [
             0.5555555555555556,
             "#000016"
            ],
            [
             0.6666666666666666,
             "#000017"
            ],
            [
             0.7777777777777778,
             "#000018"
            ],
            [
             0.8888888888888888,
             "#000019"
            ],
            [
             1,
             "#000020"
            ]
           ],
           "sequentialminus": [
            [
             0,
             "#000011"
            ],
            [
             0.1111111111111111,
             "#000012"
            ],
            [
             0.2222222222222222,
             "#000013"
            ],
            [
             0.3333333333333333,
             "#000014"
            ],
            [
             0.4444444444444444,
             "#000015"
            ],
            [
             0.5555555555555556,
             "#000016"
            ],
            [
             0.6666666666666666,
             "#000017"
            ],
            [
             0.7777777777777778,
             "#000018"
            ],
            [
             0.8888888888888888,
             "#000019"
            ],
            [
             1,
             "#000020"
            ]
           ]
          },
          "colorway": [
           "#000001",
           "#000002",
           "#000003",
           "#000004",
           "#000005",
           "#000006",
           "#000007",
           "#000008",
           "#000009",
           "#000010"
          ]
         }
        },
        "title": {
         "text": "Comparison of Vehicle Types by Revenue"
        },
        "updatemenus": [
         {
          "buttons": [
           {
            "args": [
             {
              "text": [
               [
                511.50338464897914,
                510.20029944017705,
                509.5681688997158,
                507.68493419760364,
                506.7252409994098,
                503.8970895418465,
                501.8167487684729
               ]
              ],
              "x": [
               [
                "Go Sedan",
                "Bike",
                "Premier Sedan",
                "Go Mini",
                "Auto",
                "eBike",
                "Uber XL"
               ]
              ],
              "y": [
               [
                511.50338464897914,
                510.20029944017705,
                509.5681688997158,
                507.68493419760364,
                506.7252409994098,
                503.8970895418465,
                501.8167487684729
               ]
              ]
             },
             {
              "title": "Comparison of Vehicle Types by Avg Check"
             }
            ],
            "label": "Avg Check",
            "method": "update"
           },
           {
            "args": [
             {
              "text": [
               [
                8.575761973875181,
                8.500042828590463,
                8.478422179186628,
                8.468101183836493,
                8.448298693073868,
                8.43874992573228,
                8.401596441761646
               ]
              ],
              "x": [
               [
                "Uber XL",
                "Bike",
                "eBike",
                "Go Mini",
                "Auto",
                "Premier Sedan",
                "Go Sedan"
               ]
              ],
              "y": [
               [
                8.575761973875181,
                8.500042828590463,
                8.478422179186628,
                8.468101183836493,
                8.448298693073868,
                8.43874992573228,
                8.401596441761646
               ]
              ]
             },
             {
              "title": "Comparison of Vehicle Types by Avg Vtat"
             }
            ],
            "label": "Avg Vtat",
            "method": "update"
           },
           {
            "args": [
             {
              "text": [
               [
                29.21874137231019,
                29.209852216748768,
                29.199296966540814,
                29.17720373207074,
                29.159236888626985,
                29.14230179028133,
                29.040217272628013
               ]
              ],
              "x": [
               [
                "Premier Sedan",
                "Uber XL",
                "Bike",
                "eBike",
                "Go Mini",
                "Auto",
                "Go Sedan"
               ]
              ],
              "y": [
               [
                29.21874137231019,
                29.209852216748768,
                29.199296966540814,
                29.17720373207074,
                29.159236888626985,
                29.14230179028133,
                29.040217272628013
               ]
              ]
             },
             {
              "title": "Comparison of Vehicle Types by Avg Ctat"
             }
            ],
            "label": "Avg Ctat",
            "method": "update"
           },
           {
            "args": [
             {
              "text": [
               [
                0.6255338278264778,
                0.6232624239463517,
                0.6223243642219687,
                0.6212798851526696,
                0.6205361371601781,
                0.618803281755258,
                0.61442098669909
               ]
              ],
              "x": [
               [
                "Uber XL",
                "Bike",
                "Go Mini",
                "Premier Sedan",
                "eBike",
                "Auto",
                "Go Sedan"
               ]
              ],
              "y": [
               [
                0.6255338278264778,
                0.6232624239463517,
                0.6223243642219687,
                0.6212798851526696,
                0.6205361371601781,
                0.618803281755258,
                0.61442098669909
               ]
              ]
             },
             {
              "title": "Comparison of Vehicle Types by Success Rate"
             }
            ],
            "label": "Success Rate",
            "method": "update"
           },
           {
            "args": [
             {
              "text": [
               [
                12878422,
                10338496,
                9369719,
                7837697,
                6275332,
                3618485,
                1528032
               ]
              ],
              "x": [
               [
                "Auto",
                "Go Mini",
                "Go Sedan",
                "Bike",
                "Premier Sedan",
                "eBike",
                "Uber XL"
               ]
              ],
              "y": [
               [
                12878422,
                10338496,
                9369719,
                7837697,
                6275332,
                3618485,
                1528032
               ]
              ]
             },
             {
              "title": "Comparison of Vehicle Types by Revenue"
             }
            ],
            "label": "Revenue",
            "method": "update"
           },
           {
            "args": [
             {
              "text": [
               [
                37419,
                29806,
                27141,
                22517,
                18111,
                10557,
                4449
               ]
              ],
              "x": [
               [
                "Auto",
                "Go Mini",
                "Go Sedan",
                "Bike",
                "Premier Sedan",
                "eBike",
                "Uber XL"
               ]
              ],
              "y": [
               [
                37419,
                29806,
                27141,
                22517,
                18111,
                10557,
                4449
               ]
              ]
             },
             {
              "title": "Comparison of Vehicle Types by Rides"
             }
            ],
            "label": "Rides",
            "method": "update"
           }
          ],
          "direction": "right",
          "x": 0,
          "y": 1.15
         }
        ],
        "xaxis": {
         "anchor": "y",
         "domain": [
          0,
          1
         ],
         "title": {
          "text": "Vehicle Type"
         }
        },
        "yaxis": {
         "anchor": "x",
         "domain": [
          0,
          1
         ],
         "title": {
          "text": "defaultmetric.replace('_', ' ').title()"
         }
        }
       }
      }
     },
     "metadata": {},
     "output_type": "display_data"
    }
   ],
   "source": [
    "### here i make dashboard cuz table in above isnt make sense\n",
    "\n",
    "import plotly.express as px\n",
    "\n",
    "metrics = ['avg_check', 'avg_vtat', 'avg_ctat', 'success_rate', 'revenue', 'rides']\n",
    "\n",
    "defaultmetric = metrics[4]\n",
    "fig = px.bar(\n",
    "    transport_stats.sort_values(by=defaultmetric, ascending=False),\n",
    "    x='Vehicle Type',y=defaultmetric,\n",
    "    title=f'Comparison of Vehicle Types by {defaultmetric.replace(\"_\", \" \").title()}',\n",
    "    text_auto='.2s'\n",
    "\n",
    ")\n",
    "\n",
    "buttons = []\n",
    "for metric in metrics:\n",
    "    buttons.append(\n",
    "        dict(\n",
    "            label=metric.replace(\"_\", \" \").title(),\n",
    "            method='update',\n",
    "            args=[{'y': [transport_stats.sort_values(by=metric, ascending=False)[metric]],\n",
    "                   'x': [transport_stats.sort_values(by=metric, ascending=False)['Vehicle Type']],\n",
    "                   'text': [transport_stats.sort_values(by=metric, ascending=False)[metric]]},\n",
    "                  {'title': f'Comparison of Vehicle Types by {metric.replace(\"_\", \" \").title()}'}]\n",
    "        )\n",
    ")\n",
    "\n",
    "fig.update_layout(\n",
    "    updatemenus=[{\"buttons\": buttons, \"direction\": \"right\", \"x\": 0, \"y\": 1.15}],\n",
    "    xaxis_title=\"Vehicle Type\",\n",
    "    yaxis_title=\"defaultmetric.replace('_', ' ').title()\"\n",
    ")\n",
    "\n",
    "fig.show()"
   ]
  },
  {
   "cell_type": "code",
   "execution_count": 79,
   "id": "9bad8088",
   "metadata": {},
   "outputs": [],
   "source": [
    "%matplotlib inline\n"
   ]
  },
  {
   "cell_type": "code",
   "execution_count": 80,
   "id": "8fb7ed65",
   "metadata": {},
   "outputs": [
    {
     "data": {
      "image/png": "[encoded data removed]",
      "text/plain": [
       "<Figure size 700x500 with 2 Axes>"
      ]
     },
     "metadata": {},
     "output_type": "display_data"
    }
   ],
   "source": [
    "import seaborn as sns\n",
    "import matplotlib.pyplot as plt\n",
    "\n",
    "cols = ['Driver Ratings','Customer Rating','Avg VTAT','Avg CTAT','Ride Distance','Booking Value']\n",
    "corr = df[cols].corr()\n",
    "\n",
    "plt.figure(figsize=(7,5))\n",
    "sns.heatmap(corr, annot=True, cmap=\"coolwarm\", fmt=\".2f\")\n",
    "plt.title(\"Корреляция между рейтингами и параметрами поездки\")\n",
    "plt.show()\n"
   ]
  },
  {
   "cell_type": "code",
   "execution_count": 81,
   "id": "e3d185b8",
   "metadata": {},
   "outputs": [
    {
     "data": {
      "text/html": [
       "<div>\n",
       "<style scoped>\n",
       "    .dataframe tbody tr th:only-of-type {\n",
       "        vertical-align: middle;\n",
       "    }\n",
       "\n",
       "    .dataframe tbody tr th {\n",
       "        vertical-align: top;\n",
       "    }\n",
       "\n",
       "    .dataframe thead th {\n",
       "        text-align: right;\n",
       "    }\n",
       "</style>\n",
       "<table border=\"1\" class=\"dataframe\">\n",
       "  <thead>\n",
       "    <tr style=\"text-align: right;\">\n",
       "      <th></th>\n",
       "      <th>Driver Ratings</th>\n",
       "      <th>Customer Rating</th>\n",
       "    </tr>\n",
       "    <tr>\n",
       "      <th>Booking Status</th>\n",
       "      <th></th>\n",
       "      <th></th>\n",
       "    </tr>\n",
       "  </thead>\n",
       "  <tbody>\n",
       "    <tr>\n",
       "      <th>Cancelled by Customer</th>\n",
       "      <td>NaN</td>\n",
       "      <td>NaN</td>\n",
       "    </tr>\n",
       "    <tr>\n",
       "      <th>Cancelled by Driver</th>\n",
       "      <td>NaN</td>\n",
       "      <td>NaN</td>\n",
       "    </tr>\n",
       "    <tr>\n",
       "      <th>Completed</th>\n",
       "      <td>4.230992</td>\n",
       "      <td>4.404584</td>\n",
       "    </tr>\n",
       "    <tr>\n",
       "      <th>Incomplete</th>\n",
       "      <td>NaN</td>\n",
       "      <td>NaN</td>\n",
       "    </tr>\n",
       "    <tr>\n",
       "      <th>No Driver Found</th>\n",
       "      <td>NaN</td>\n",
       "      <td>NaN</td>\n",
       "    </tr>\n",
       "  </tbody>\n",
       "</table>\n",
       "</div>"
      ],
      "text/plain": [
       "                       Driver Ratings  Customer Rating\n",
       "Booking Status                                        \n",
       "Cancelled by Customer             NaN              NaN\n",
       "Cancelled by Driver               NaN              NaN\n",
       "Completed                    4.230992         4.404584\n",
       "Incomplete                        NaN              NaN\n",
       "No Driver Found                   NaN              NaN"
      ]
     },
     "execution_count": 81,
     "metadata": {},
     "output_type": "execute_result"
    }
   ],
   "source": [
    "df.groupby('Booking Status')[['Driver Ratings','Customer Rating']].mean()"
   ]
  },
  {
   "cell_type": "code",
   "execution_count": 82,
   "id": "177dba8a",
   "metadata": {},
   "outputs": [
    {
     "name": "stderr",
     "output_type": "stream",
     "text": [
      "C:\\Users\\augoa\\AppData\\Local\\Temp\\ipykernel_27564\\3536499650.py:4: DeprecationWarning:\n",
      "\n",
      "DataFrameGroupBy.apply operated on the grouping columns. This behavior is deprecated, and in a future version of pandas the grouping columns will be excluded from the operation. Either pass `include_groups=False` to exclude the groupings or explicitly select the grouping columns after groupby to silence this warning.\n",
      "\n"
     ]
    }
   ],
   "source": [
    "### here we can see that we should make normalize cuz corr work incorrect\n",
    "min_size = df['Booking Status'].value_counts().min()\n",
    "\n",
    "balanced_df_for_corr = df.groupby('Booking Status').apply(lambda x: x.sample(min_size, random_state=42)).reset_index(drop=True)"
   ]
  },
  {
   "cell_type": "code",
   "execution_count": 83,
   "id": "ec736d1e",
   "metadata": {},
   "outputs": [
    {
     "name": "stdout",
     "output_type": "stream",
     "text": [
      "F-stat: nan p-value: nan\n"
     ]
    },
    {
     "name": "stderr",
     "output_type": "stream",
     "text": [
      "C:\\Users\\augoa\\AppData\\Local\\Temp\\ipykernel_27564\\3615944073.py:4: SmallSampleWarning:\n",
      "\n",
      "One or more sample arguments is too small; all returned values will be NaN. See documentation for sample size requirements.\n",
      "\n"
     ]
    }
   ],
   "source": [
    "from scipy.stats import f_oneway\n",
    "\n",
    "groups = [g['Customer Rating'].dropna() for _, g in df.groupby('Booking Status')]\n",
    "f_stat, p_val = f_oneway(*groups)\n",
    "\n",
    "print(\"F-stat:\", f_stat, \"p-value:\", p_val)\n"
   ]
  },
  {
   "cell_type": "code",
   "execution_count": 84,
   "id": "486f1256",
   "metadata": {},
   "outputs": [
    {
     "data": {
      "image/png": "[encoded data removed]",
      "text/plain": [
       "<Figure size 640x480 with 2 Axes>"
      ]
     },
     "metadata": {},
     "output_type": "display_data"
    }
   ],
   "source": [
    "completed = df[df['Booking Status'] == 'Completed'].copy()\n",
    "\n",
    "corr = completed[['Driver Ratings','Customer Rating','Avg VTAT','Avg CTAT','Ride Distance','Booking Value']].corr()\n",
    "sns.heatmap(corr, annot=True, cmap=\"coolwarm\", fmt=\".2f\")\n",
    "plt.title(\"Корреляция (только успешные поездки)\")\n",
    "plt.show()\n"
   ]
  },
  {
   "cell_type": "markdown",
   "id": "eead8a69",
   "metadata": {},
   "source": [
    "### we see the drivers rating in completed rides has relation only with avg VTAT "
   ]
  },
  {
   "cell_type": "code",
   "execution_count": 85,
   "id": "bc1504e0",
   "metadata": {},
   "outputs": [
    {
     "name": "stdout",
     "output_type": "stream",
     "text": [
      "             Problem Type                                Problem Reason  \\\n",
      "12        No Driver Found                               No Driver Found   \n",
      "5     Cancelled by Driver                        Customer related issue   \n",
      "8     Cancelled by Driver                The customer was coughing/sick   \n",
      "7     Cancelled by Driver                 Personal & Car related issues   \n",
      "6     Cancelled by Driver           More than permitted people in there   \n",
      "9              Incomplete                               Customer Demand   \n",
      "11             Incomplete                             Vehicle Breakdown   \n",
      "10             Incomplete                                   Other Issue   \n",
      "4   Cancelled by Customer                                 Wrong Address   \n",
      "1   Cancelled by Customer                               Change of plans   \n",
      "3   Cancelled by Customer  Driver is not moving towards pickup location   \n",
      "2   Cancelled by Customer                        Driver asked to cancel   \n",
      "0   Cancelled by Customer                             AC is not working   \n",
      "\n",
      "    count   avg_vtat   avg_ctat  avg_distance   avg_value  \n",
      "12  10500        NaN        NaN           NaN         NaN  \n",
      "5    6837   7.493009        NaN           NaN         NaN  \n",
      "8    6751   7.535091        NaN           NaN         NaN  \n",
      "7    6726   7.462533        NaN           NaN         NaN  \n",
      "6    6686   7.517290        NaN           NaN         NaN  \n",
      "9    3040   6.006743  20.136513     10.574849  505.892434  \n",
      "11   3012   6.000697  19.941700     10.579535  508.559761  \n",
      "10   2948   6.034294  19.928664     10.487195  514.217775  \n",
      "4    2362  12.398603        NaN           NaN         NaN  \n",
      "1    2353  12.449936        NaN           NaN         NaN  \n",
      "3    2335  12.565096        NaN           NaN         NaN  \n",
      "2    2295  12.641699        NaN           NaN         NaN  \n",
      "0    1155  12.508745        NaN           NaN         NaN  \n"
     ]
    }
   ],
   "source": [
    "non_completed = df[df['Booking Status'] != 'Completed'].copy()\n",
    "\n",
    "# 2) Чистим пробелы в строковых полях (частая боль)\n",
    "for c in ['Booking Status',\n",
    "          'Driver Cancellation Reason',\n",
    "          'Reason for cancelling by Customer',\n",
    "          'Incomplete Rides Reason']:\n",
    "    if c in non_completed.columns:\n",
    "        non_completed[c] = non_completed[c].astype(str).str.strip().replace({'nan': np.nan})\n",
    "\n",
    "# 3) Единая причина проблемы по статусу\n",
    "non_completed['Problem Type'] = non_completed['Booking Status']\n",
    "\n",
    "non_completed['Problem Reason'] = np.select(\n",
    "    [\n",
    "        non_completed['Booking Status'].eq('Cancelled by Driver'),\n",
    "        non_completed['Booking Status'].eq('Cancelled by Customer'),\n",
    "        non_completed['Booking Status'].eq('Incomplete'),\n",
    "        non_completed['Booking Status'].eq('No Driver Found')\n",
    "    ],\n",
    "    [\n",
    "        non_completed.get('Driver Cancellation Reason'),\n",
    "        non_completed.get('Reason for cancelling by Customer'),\n",
    "        non_completed.get('Incomplete Rides Reason'),\n",
    "        'No Driver Found'  # у этого статуса отдельной «причины» нет\n",
    "    ],\n",
    "    default=np.nan\n",
    ")\n",
    "\n",
    "# 4) Подставляем \"Unknown\" если причина не указана\n",
    "non_completed['Problem Reason'] = non_completed['Problem Reason'].fillna('Unknown')\n",
    "\n",
    "# 5) Топ частых проблем + метрики по ним\n",
    "agg = (\n",
    "    non_completed\n",
    "      .groupby(['Problem Type', 'Problem Reason'], dropna=False)  # dropna=False работает в pandas ≥ 1.1\n",
    "      .agg(\n",
    "          count=('Booking ID', 'count'),\n",
    "          avg_vtat=('Avg VTAT', 'mean'),\n",
    "          avg_ctat=('Avg CTAT', 'mean'),\n",
    "          avg_distance=('Ride Distance', 'mean'),\n",
    "          avg_value=('Booking Value', 'mean')\n",
    "      )\n",
    "      .reset_index()\n",
    "      .sort_values('count', ascending=False)\n",
    ")\n",
    "\n",
    "# Если у тебя старая версия pandas без dropna=, то просто убери его — у нас и так NaN уже заменены на 'Unknown'\n",
    "\n",
    "# 6) Покажем топ-20 проблем\n",
    "top20 = agg.head(20)\n",
    "print(top20)"
   ]
  },
  {
   "cell_type": "code",
   "execution_count": 86,
   "id": "54f76ce2",
   "metadata": {},
   "outputs": [
    {
     "data": {
      "image/png": "[encoded data removed]",
      "text/plain": [
       "<Figure size 1000x500 with 1 Axes>"
      ]
     },
     "metadata": {},
     "output_type": "display_data"
    }
   ],
   "source": [
    "import seaborn as sns\n",
    "import matplotlib.pyplot as plt\n",
    "\n",
    "plt.figure(figsize=(10,5))\n",
    "sns.barplot(data=top20, x='count', y='Problem Reason', hue='Problem Type')\n",
    "plt.title(\"Топ проблем по количеству\")\n",
    "plt.show()\n"
   ]
  },
  {
   "cell_type": "markdown",
   "id": "72b2bff2",
   "metadata": {},
   "source": [
    "### here the top problems which is the reason for decrasing the rating"
   ]
  },
  {
   "cell_type": "code",
   "execution_count": 87,
   "id": "ab527e11",
   "metadata": {},
   "outputs": [
    {
     "data": {
      "text/plain": [
       "Booking Status     57000\n",
       "Customer Rating        0\n",
       "Driver Ratings         0\n",
       "dtype: int64"
      ]
     },
     "execution_count": 87,
     "metadata": {},
     "output_type": "execute_result"
    }
   ],
   "source": [
    "non_completed[['Booking Status','Customer Rating','Driver Ratings']].notna().sum()\n"
   ]
  },
  {
   "cell_type": "code",
   "execution_count": 88,
   "id": "a31c50f7",
   "metadata": {},
   "outputs": [],
   "source": [
    "### so i wanna predict the rating by machine learning \n",
    "\n",
    "\n",
    "\n",
    "\n",
    "y = df['Customer Rating'].notna().astype('double')\n",
    "X = df[['Driver Ratings','Avg VTAT','Avg CTAT','Ride Distance','Booking Value']].copy()\n",
    "\n",
    "\n",
    "from sklearn.model_selection import train_test_split\n",
    "from sklearn.ensemble import GradientBoostingClassifier\n"
   ]
  }
 ],
 "metadata": {
  "kernelspec": {
   "display_name": "Python 3",
   "language": "python",
   "name": "python3"
  },
  "language_info": {
   "codemirror_mode": {
    "name": "ipython",
    "version": 3
   },
   "file_extension": ".py",
   "mimetype": "text/x-python",
   "name": "python",
   "nbconvert_exporter": "python",
   "pygments_lexer": "ipython3",
   "version": "3.13.1"
  }
 },
 "nbformat": 4,
 "nbformat_minor": 5
}
